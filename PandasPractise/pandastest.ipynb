{
 "cells": [
  {
   "cell_type": "code",
   "execution_count": 1,
   "metadata": {},
   "outputs": [],
   "source": [
    "import pandas as pd\n",
    "\n",
    "data = pd.read_csv('test.csv')"
   ]
  },
  {
   "cell_type": "code",
   "execution_count": 4,
   "metadata": {},
   "outputs": [
    {
     "name": "stdout",
     "output_type": "stream",
     "text": [
      "Pierwsze 5 wierszy:\n",
      "         id                                              title  \\\n",
      "0  12224879                          Interactive Dynamic Video   \n",
      "1  11964716  Florida DJs May Face Felony for April Fools' W...   \n",
      "2  11919867       Technology ventures: From Idea to Enterprise   \n",
      "3  10301696  Note by Note: The Making of Steinway L1037 (2007)   \n",
      "4  10482257  Title II kills investment? Comcast and other I...   \n",
      "\n",
      "                                                 url  num_points  \\\n",
      "0            http://www.interactivedynamicvideo.com/         386   \n",
      "1  http://www.thewire.com/entertainment/2013/04/f...           2   \n",
      "2  https://www.amazon.com/Technology-Ventures-Ent...           3   \n",
      "3  http://www.nytimes.com/2007/11/07/movies/07ste...           8   \n",
      "4  http://arstechnica.com/business/2015/10/comcas...          53   \n",
      "\n",
      "   num_comments      author       created_at  \n",
      "0            52    ne0phyte   8/4/2016 11:52  \n",
      "1             1    vezycash  6/23/2016 22:20  \n",
      "2             1     hswarna   6/17/2016 0:01  \n",
      "3             2  walterbell   9/30/2015 4:12  \n",
      "4            22      Deinos  10/31/2015 9:48  \n"
     ]
    }
   ],
   "source": [
    "print('Pierwsze 5 wierszy:')\n",
    "print(data.head())"
   ]
  },
  {
   "cell_type": "code",
   "execution_count": 5,
   "metadata": {},
   "outputs": [
    {
     "name": "stdout",
     "output_type": "stream",
     "text": [
      "Ostatnie 5 wierszy:\n",
      "             id                                              title  \\\n",
      "20094  12379592  How Purism Avoids Intels Active Management Tec...   \n",
      "20095  10339284          YC Application Translated and Broken Down   \n",
      "20096  10824382  Microkernels are slow and Elvis didn't do no d...   \n",
      "20097  10739875                      How Product Hunt really works   \n",
      "20098  11680777  RoboBrowser: Your friendly neighborhood web sc...   \n",
      "\n",
      "                                                     url  num_points  \\\n",
      "20094  https://puri.sm/philosophy/how-purism-avoids-i...          10   \n",
      "20095  https://medium.com/@zreitano/the-yc-applicatio...           4   \n",
      "20096  http://blog.darknedgy.net/technology/2016/01/0...         169   \n",
      "20097  https://medium.com/@benjiwheeler/how-product-h...         695   \n",
      "20098              https://github.com/jmcarp/robobrowser         182   \n",
      "\n",
      "       num_comments         author        created_at  \n",
      "20094             6  AdmiralAsshat    8/29/2016 2:22  \n",
      "20095             1       zreitano   10/6/2015 14:57  \n",
      "20096           132    vezzy-fnord     1/2/2016 0:49  \n",
      "20097           222          brw12  12/15/2015 19:32  \n",
      "20098            58      pmoriarty    5/12/2016 1:43  \n"
     ]
    }
   ],
   "source": [
    "print('Ostatnie 5 wierszy:')\n",
    "print(data.tail())"
   ]
  },
  {
   "cell_type": "code",
   "execution_count": 6,
   "metadata": {},
   "outputs": [
    {
     "name": "stdout",
     "output_type": "stream",
     "text": [
      "Ilość wierszy i kolumn\n",
      "(20099, 7)\n"
     ]
    }
   ],
   "source": [
    "print('Ilość wierszy i kolumn')\n",
    "print(data.shape)"
   ]
  },
  {
   "cell_type": "code",
   "execution_count": 7,
   "metadata": {},
   "outputs": [
    {
     "name": "stdout",
     "output_type": "stream",
     "text": [
      "Nazwy kolumn\n",
      "Index(['id', 'title', 'url', 'num_points', 'num_comments', 'author',\n",
      "       'created_at'],\n",
      "      dtype='object')\n"
     ]
    }
   ],
   "source": [
    "print('Nazwy kolumn')\n",
    "print(data.columns)"
   ]
  },
  {
   "cell_type": "code",
   "execution_count": 8,
   "metadata": {},
   "outputs": [
    {
     "name": "stdout",
     "output_type": "stream",
     "text": [
      "Wybieranie jednej kolumny\n",
      "0                                Interactive Dynamic Video\n",
      "1        Florida DJs May Face Felony for April Fools' W...\n",
      "2             Technology ventures: From Idea to Enterprise\n",
      "3        Note by Note: The Making of Steinway L1037 (2007)\n",
      "4        Title II kills investment? Comcast and other I...\n",
      "                               ...                        \n",
      "20094    How Purism Avoids Intels Active Management Tec...\n",
      "20095            YC Application Translated and Broken Down\n",
      "20096    Microkernels are slow and Elvis didn't do no d...\n",
      "20097                        How Product Hunt really works\n",
      "20098    RoboBrowser: Your friendly neighborhood web sc...\n",
      "Name: title, Length: 20099, dtype: object\n"
     ]
    }
   ],
   "source": [
    "print('Wybieranie jednej kolumny')\n",
    "print(data['title'])"
   ]
  },
  {
   "cell_type": "code",
   "execution_count": 9,
   "metadata": {},
   "outputs": [
    {
     "name": "stdout",
     "output_type": "stream",
     "text": [
      "Opis\n",
      "                 id    num_points  num_comments\n",
      "count  2.009900e+04  20099.000000  20099.000000\n",
      "mean   1.131755e+07     50.296632     24.803025\n",
      "std    6.964531e+05    107.110322     56.108639\n",
      "min    1.017691e+07      1.000000      1.000000\n",
      "25%    1.070172e+07      3.000000      1.000000\n",
      "50%    1.128452e+07      9.000000      3.000000\n",
      "75%    1.192613e+07     54.000000     21.000000\n",
      "max    1.257898e+07   2553.000000   1733.000000\n"
     ]
    }
   ],
   "source": [
    "print('Opis')\n",
    "print(data.describe())"
   ]
  },
  {
   "cell_type": "code",
   "execution_count": 10,
   "metadata": {},
   "outputs": [
    {
     "name": "stdout",
     "output_type": "stream",
     "text": [
      "Opis kolumny\n",
      "count              20099\n",
      "unique             19702\n",
      "top       2/4/2016 22:54\n",
      "freq                   3\n",
      "Name: created_at, dtype: object\n"
     ]
    }
   ],
   "source": [
    "print('Opis kolumny')\n",
    "print(data['created_at'].describe())"
   ]
  },
  {
   "cell_type": "code",
   "execution_count": 16,
   "metadata": {},
   "outputs": [
    {
     "name": "stdout",
     "output_type": "stream",
     "text": [
      "0                            Interactive Dynamic Video\n",
      "1    Florida DJs May Face Felony for April Fools' W...\n",
      "2         Technology ventures: From Idea to Enterprise\n",
      "3    Note by Note: The Making of Steinway L1037 (2007)\n",
      "4    Title II kills investment? Comcast and other I...\n",
      "5                       Nuts and Bolts Business Advice\n",
      "6          Ask HN: How to improve my personal website?\n",
      "7    Shims, Jigs and Other Woodworking Concepts to ...\n",
      "8                               That self-appendectomy\n",
      "9    Crate raises $4M seed round for its next-gen S...\n",
      "Name: title, dtype: object\n"
     ]
    }
   ],
   "source": [
    "title_df= pd.Series(data['title'])\n",
    "print(title_df[0:10])"
   ]
  },
  {
   "cell_type": "code",
   "execution_count": 21,
   "metadata": {},
   "outputs": [
    {
     "name": "stdout",
     "output_type": "stream",
     "text": [
      "149\n"
     ]
    }
   ],
   "source": [
    "print(len([x for x in title_df if 'Python' in x]))"
   ]
  },
  {
   "cell_type": "code",
   "execution_count": 22,
   "metadata": {},
   "outputs": [
    {
     "name": "stdout",
     "output_type": "stream",
     "text": [
      "['Appcamp.io', 'Homoiconicity', 'Cloud.gov', 'Lists', 'SeedRamp', 'Programmer', 'Fukushima', 'YourLanguageSucks', 'Anypixel.js', 'UnrealCV', 'Xamarin', 'CryptÂ·oÂ·phobe', '@Snowden', 'Misfortune', 'ImportPython', '#commswithoutcode', 'Equifacks.com', 'Selfiexploratory', 'StressNinja', 'BuyCott', 'Unison', 'JQuery++', 'GPUOpen', 'Theremins', 'Anything2Vec', 'asciitable.com', 'Founder', 'VW', 'Xv6', 'Cruise', 'MVC-N', 'Epoh', 'Akkadian', 'Yays', 'Tenacity', 'Gyrocar', 'LoweBot', 'Vorlon.js', 'YArchive', 'RefugeBnB', 'Senna.js', 'LambdaNative', 'Courage', 'PASTE', 'Xautobacklight', 'TorFlow', 'NewLisp', 'Types', 'TextBlade', 'Social.android.com', '27', 'QuorraJS', '#WorkCanWait', 'Fan-In', 'Mylife-mode', 'moreutils', 'Shyft', 'Codemoji', 'PokemonGo-Map', 'Blix', 'Confirmshaming', 'Diep.io', 'Zachflower/resume-server', 'RandomUUID.net', 'Cursors', 'EditorConfig', 'PRIVET', 'Broke', 'Android-Complete-Reference', 'Http-decision-diagram', 'Growgram', '9.22337E+18', 'Sweaterify', 'Blitzscaling', 'BetaFEC', 'Firebase', 'Hair', 'Trackers', 'H-Day', 'Paradise', 'PlankalkÃ¼l', 'Inploi', 'PocketNode', 'Configuration', 'WordExpress', 'Bivvy', 'Require-from-Twitter', 'OPENDIME', 'DiceWARE', 'Texter', 'Pinioner', 'Neverware', 'WeirdTwitterbros.link', 'Untitled', 'AppReviewDesk', '444444444444444444444444444444444444444444444444444444444444444.com', 'Fight', 'Agromafia', 'PrettyPing', 'RobustIRC', 'ModularGrid', 'PICO-8', 'Woo.io', 'Js_of_ocaml', 'TakaraKeyframer', 'Factorizer', '\\\\in', 'Foo', 'Boycottdocker.org', 'Pricks', 'Go-trigger', 'Hacker-scripts', 'Markdeep', 'Adam', 'B.Y.O.B', 'Wage-Slaves', 'Wyngz', 'GitHub-first-commit', 'RansomWhere?', 'Gravity.js', 'OpenToonz', 'Spaceplan', 'Polybolos', '#startups', 'BoiledCarrot', 'PrimeNG', 'Satoshi', 'Asana', 'PythonJobs.com', 'COMEFROM', 'Browserball', 'Hash_salt=']\n"
     ]
    }
   ],
   "source": [
    "print([x for x in title_df if len(x.split())<=1])"
   ]
  }
 ],
 "metadata": {
  "interpreter": {
   "hash": "916dbcbb3f70747c44a77c7bcd40155683ae19c65e1c03b4aa3499c5328201f1"
  },
  "kernelspec": {
   "display_name": "Python 3.8.10 64-bit",
   "language": "python",
   "name": "python3"
  },
  "language_info": {
   "codemirror_mode": {
    "name": "ipython",
    "version": 3
   },
   "file_extension": ".py",
   "mimetype": "text/x-python",
   "name": "python",
   "nbconvert_exporter": "python",
   "pygments_lexer": "ipython3",
   "version": "3.8.10"
  },
  "orig_nbformat": 4
 },
 "nbformat": 4,
 "nbformat_minor": 2
}
